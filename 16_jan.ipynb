{
 "cells": [
  {
   "cell_type": "markdown",
   "id": "743afdd3-ddaf-4c23-a94d-a3f1ab3df273",
   "metadata": {},
   "source": [
    "#1\n",
    "quick sort \n",
    "Time complexity - best case = O(nlogn)\n",
    "                  worst case= O(n²)"
   ]
  },
  {
   "cell_type": "markdown",
   "id": "05410163-042f-4171-9708-f78f47eee5f6",
   "metadata": {},
   "source": [
    "#2\n",
    "Time complexity - O(n²)"
   ]
  },
  {
   "cell_type": "markdown",
   "id": "675d5c5d-fff6-416a-8360-814fbab88291",
   "metadata": {},
   "source": [
    "#3\n",
    "Time complexity - O(n)"
   ]
  },
  {
   "cell_type": "markdown",
   "id": "989f3211-8cb6-4c5d-ab45-20c8698e62d0",
   "metadata": {},
   "source": [
    "#4\n",
    "Time complexity - O(n²)"
   ]
  },
  {
   "cell_type": "markdown",
   "id": "88367aea-fb8d-4658-bf6d-1658aa61c782",
   "metadata": {},
   "source": [
    "#5\n",
    "Time complexity - O(n²)"
   ]
  },
  {
   "cell_type": "code",
   "execution_count": 1,
   "id": "3ea100f3-a597-4133-9f21-def56158b25d",
   "metadata": {},
   "outputs": [
    {
     "data": {
      "text/plain": [
       "6"
      ]
     },
     "execution_count": 1,
     "metadata": {},
     "output_type": "execute_result"
    }
   ],
   "source": [
    "#6\n",
    "def sum_of_digits(a):\n",
    "    if a==0:\n",
    "        return 0\n",
    "    i=a%10\n",
    "    return i+sum_of_digits(a//10)\n",
    "sum_of_digits(123)"
   ]
  },
  {
   "cell_type": "code",
   "execution_count": 19,
   "id": "689b447f-87b4-42ae-b030-80dd504f3ceb",
   "metadata": {},
   "outputs": [
    {
     "name": "stdout",
     "output_type": "stream",
     "text": [
      "[0, 1, 1, 2, 3, 5]\n"
     ]
    }
   ],
   "source": [
    "#7\n",
    "def fibonacci_series(n):\n",
    "    # Helper function to calculate Fibonacci number at a specific index\n",
    "    def fibonacci_recursive(index):\n",
    "        if index == 0:\n",
    "            return 0\n",
    "        elif index == 1:\n",
    "            return 1\n",
    "        else:\n",
    "            return fibonacci_recursive(index - 1) + fibonacci_recursive(index - 2)\n",
    "    \n",
    "    # Generate the Fibonacci series up to the n-th number\n",
    "    return [fibonacci_recursive(i) for i in range(n)]\n",
    "\n",
    "# Example usage\n",
    "print(fibonacci_series(6))  # Output: [0, 1, 1, 2, 3, 5]\n"
   ]
  },
  {
   "cell_type": "code",
   "execution_count": 2,
   "id": "f6651211-53ce-442f-89cf-d1d96940bbb6",
   "metadata": {},
   "outputs": [
    {
     "name": "stdout",
     "output_type": "stream",
     "text": [
      "True\n"
     ]
    }
   ],
   "source": [
    "#8\n",
    "def subset_sum(arr, target):\n",
    "    # Base cases\n",
    "    if target == 0:\n",
    "        return True  # A subset with sum 0 exists (empty set)\n",
    "    if len(arr) == 0:\n",
    "        return False  # No elements left to form the target sum\n",
    "\n",
    "    # Recursive cases\n",
    "    # If the last element is greater than the target, skip it\n",
    "    if arr[-1] > target:\n",
    "        return subset_sum(arr[:-1], target)\n",
    "    \n",
    "    # Check if the target can be achieved either by including or excluding the last element\n",
    "    return subset_sum(arr[:-1], target - arr[-1]) or subset_sum(arr[:-1], target)\n",
    "\n",
    "# Example usage\n",
    "print(subset_sum([3, 34, 4, 12, 5, 2], 41))  # Output: True\n"
   ]
  },
  {
   "cell_type": "code",
   "execution_count": 3,
   "id": "2c80d59d-3f15-4dad-88d2-3427e55cd58a",
   "metadata": {},
   "outputs": [
    {
     "data": {
      "text/plain": [
       "True"
      ]
     },
     "execution_count": 3,
     "metadata": {},
     "output_type": "execute_result"
    }
   ],
   "source": [
    "#9\n",
    "def word_break(w,arr):\n",
    "    if w==\"\":\n",
    "        return True\n",
    "    else:\n",
    "        l=len(w)\n",
    "        for i in range(1,l+1):\n",
    "            if w[:i] in arr and word_break(w[i:],arr):\n",
    "                return True\n",
    "    return False\n",
    "word_break(\"sitaram\",['sita','radhe','ram','krishna'])\n",
    "        "
   ]
  },
  {
   "cell_type": "code",
   "execution_count": 9,
   "id": "2842ee22-7099-4a96-913a-20d7170af178",
   "metadata": {},
   "outputs": [
    {
     "ename": "IndexError",
     "evalue": "list index out of range",
     "output_type": "error",
     "traceback": [
      "\u001b[0;31m---------------------------------------------------------------------------\u001b[0m",
      "\u001b[0;31mIndexError\u001b[0m                                Traceback (most recent call last)",
      "Cell \u001b[0;32mIn[9], line 47\u001b[0m\n\u001b[1;32m     40\u001b[0m         \u001b[38;5;28mprint\u001b[39m()\n\u001b[1;32m     41\u001b[0m board \u001b[38;5;241m=\u001b[39m [[\u001b[38;5;241m0\u001b[39m,\u001b[38;5;241m0\u001b[39m,\u001b[38;5;241m0\u001b[39m,\u001b[38;5;241m0\u001b[39m],\n\u001b[1;32m     42\u001b[0m          [\u001b[38;5;241m0\u001b[39m,\u001b[38;5;241m0\u001b[39m,\u001b[38;5;241m0\u001b[39m,\u001b[38;5;241m0\u001b[39m],\n\u001b[1;32m     43\u001b[0m          [\u001b[38;5;241m0\u001b[39m,\u001b[38;5;241m0\u001b[39m,\u001b[38;5;241m0\u001b[39m,\u001b[38;5;241m0\u001b[39m],\n\u001b[1;32m     44\u001b[0m          [\u001b[38;5;241m0\u001b[39m,\u001b[38;5;241m0\u001b[39m,\u001b[38;5;241m0\u001b[39m,\u001b[38;5;241m0\u001b[39m],\n\u001b[1;32m     45\u001b[0m          [\u001b[38;5;241m0\u001b[39m,\u001b[38;5;241m0\u001b[39m,\u001b[38;5;241m0\u001b[39m,\u001b[38;5;241m0\u001b[39m]\n\u001b[1;32m     46\u001b[0m          ]\n\u001b[0;32m---> 47\u001b[0m \u001b[43msolveNQ\u001b[49m\u001b[43m(\u001b[49m\u001b[43mboard\u001b[49m\u001b[43m,\u001b[49m\u001b[38;5;241;43m5\u001b[39;49m\u001b[43m)\u001b[49m\n",
      "Cell \u001b[0;32mIn[9], line 16\u001b[0m, in \u001b[0;36msolveNQ\u001b[0;34m(board, n)\u001b[0m\n\u001b[1;32m     15\u001b[0m \u001b[38;5;28;01mdef\u001b[39;00m \u001b[38;5;21msolveNQ\u001b[39m(board,n):\n\u001b[0;32m---> 16\u001b[0m     \u001b[38;5;28;01mif\u001b[39;00m \u001b[38;5;129;01mnot\u001b[39;00m \u001b[43msolveNQu\u001b[49m\u001b[43m(\u001b[49m\u001b[43mboard\u001b[49m\u001b[43m,\u001b[49m\u001b[38;5;241;43m0\u001b[39;49m\u001b[43m,\u001b[49m\u001b[43mn\u001b[49m\u001b[43m)\u001b[49m:\n\u001b[1;32m     17\u001b[0m         \u001b[38;5;28mprint\u001b[39m(\u001b[38;5;124m\"\u001b[39m\u001b[38;5;124msolution is not exist\u001b[39m\u001b[38;5;124m\"\u001b[39m)\n\u001b[1;32m     18\u001b[0m         \u001b[38;5;28;01mreturn\u001b[39;00m\n",
      "Cell \u001b[0;32mIn[9], line 28\u001b[0m, in \u001b[0;36msolveNQu\u001b[0;34m(board, col, n)\u001b[0m\n\u001b[1;32m     26\u001b[0m \u001b[38;5;28;01mif\u001b[39;00m issavetoplaceQ(board,row,col,n):\n\u001b[1;32m     27\u001b[0m     board[row][col]\u001b[38;5;241m=\u001b[39m\u001b[38;5;241m1\u001b[39m\n\u001b[0;32m---> 28\u001b[0m     \u001b[38;5;28;01mif\u001b[39;00m \u001b[43msolveNQu\u001b[49m\u001b[43m(\u001b[49m\u001b[43mboard\u001b[49m\u001b[43m,\u001b[49m\u001b[43mcol\u001b[49m\u001b[38;5;241;43m+\u001b[39;49m\u001b[38;5;241;43m1\u001b[39;49m\u001b[43m,\u001b[49m\u001b[43mn\u001b[49m\u001b[43m)\u001b[49m:\n\u001b[1;32m     29\u001b[0m         \u001b[38;5;28;01mreturn\u001b[39;00m \u001b[38;5;28;01mTrue\u001b[39;00m\n\u001b[1;32m     30\u001b[0m     board[row][col]\u001b[38;5;241m=\u001b[39m\u001b[38;5;241m0\u001b[39m\n",
      "Cell \u001b[0;32mIn[9], line 28\u001b[0m, in \u001b[0;36msolveNQu\u001b[0;34m(board, col, n)\u001b[0m\n\u001b[1;32m     26\u001b[0m \u001b[38;5;28;01mif\u001b[39;00m issavetoplaceQ(board,row,col,n):\n\u001b[1;32m     27\u001b[0m     board[row][col]\u001b[38;5;241m=\u001b[39m\u001b[38;5;241m1\u001b[39m\n\u001b[0;32m---> 28\u001b[0m     \u001b[38;5;28;01mif\u001b[39;00m \u001b[43msolveNQu\u001b[49m\u001b[43m(\u001b[49m\u001b[43mboard\u001b[49m\u001b[43m,\u001b[49m\u001b[43mcol\u001b[49m\u001b[38;5;241;43m+\u001b[39;49m\u001b[38;5;241;43m1\u001b[39;49m\u001b[43m,\u001b[49m\u001b[43mn\u001b[49m\u001b[43m)\u001b[49m:\n\u001b[1;32m     29\u001b[0m         \u001b[38;5;28;01mreturn\u001b[39;00m \u001b[38;5;28;01mTrue\u001b[39;00m\n\u001b[1;32m     30\u001b[0m     board[row][col]\u001b[38;5;241m=\u001b[39m\u001b[38;5;241m0\u001b[39m\n",
      "    \u001b[0;31m[... skipping similar frames: solveNQu at line 28 (1 times)]\u001b[0m\n",
      "Cell \u001b[0;32mIn[9], line 28\u001b[0m, in \u001b[0;36msolveNQu\u001b[0;34m(board, col, n)\u001b[0m\n\u001b[1;32m     26\u001b[0m \u001b[38;5;28;01mif\u001b[39;00m issavetoplaceQ(board,row,col,n):\n\u001b[1;32m     27\u001b[0m     board[row][col]\u001b[38;5;241m=\u001b[39m\u001b[38;5;241m1\u001b[39m\n\u001b[0;32m---> 28\u001b[0m     \u001b[38;5;28;01mif\u001b[39;00m \u001b[43msolveNQu\u001b[49m\u001b[43m(\u001b[49m\u001b[43mboard\u001b[49m\u001b[43m,\u001b[49m\u001b[43mcol\u001b[49m\u001b[38;5;241;43m+\u001b[39;49m\u001b[38;5;241;43m1\u001b[39;49m\u001b[43m,\u001b[49m\u001b[43mn\u001b[49m\u001b[43m)\u001b[49m:\n\u001b[1;32m     29\u001b[0m         \u001b[38;5;28;01mreturn\u001b[39;00m \u001b[38;5;28;01mTrue\u001b[39;00m\n\u001b[1;32m     30\u001b[0m     board[row][col]\u001b[38;5;241m=\u001b[39m\u001b[38;5;241m0\u001b[39m\n",
      "Cell \u001b[0;32mIn[9], line 26\u001b[0m, in \u001b[0;36msolveNQu\u001b[0;34m(board, col, n)\u001b[0m\n\u001b[1;32m     24\u001b[0m     \u001b[38;5;28;01mreturn\u001b[39;00m \u001b[38;5;28;01mTrue\u001b[39;00m\n\u001b[1;32m     25\u001b[0m \u001b[38;5;28;01mfor\u001b[39;00m row \u001b[38;5;129;01min\u001b[39;00m \u001b[38;5;28mrange\u001b[39m(n):\n\u001b[0;32m---> 26\u001b[0m     \u001b[38;5;28;01mif\u001b[39;00m \u001b[43missavetoplaceQ\u001b[49m\u001b[43m(\u001b[49m\u001b[43mboard\u001b[49m\u001b[43m,\u001b[49m\u001b[43mrow\u001b[49m\u001b[43m,\u001b[49m\u001b[43mcol\u001b[49m\u001b[43m,\u001b[49m\u001b[43mn\u001b[49m\u001b[43m)\u001b[49m:\n\u001b[1;32m     27\u001b[0m         board[row][col]\u001b[38;5;241m=\u001b[39m\u001b[38;5;241m1\u001b[39m\n\u001b[1;32m     28\u001b[0m         \u001b[38;5;28;01mif\u001b[39;00m solveNQu(board,col\u001b[38;5;241m+\u001b[39m\u001b[38;5;241m1\u001b[39m,n):\n",
      "Cell \u001b[0;32mIn[9], line 7\u001b[0m, in \u001b[0;36missavetoplaceQ\u001b[0;34m(board, row, col, n)\u001b[0m\n\u001b[1;32m      5\u001b[0m         \u001b[38;5;28;01mreturn\u001b[39;00m \u001b[38;5;28;01mFalse\u001b[39;00m\n\u001b[1;32m      6\u001b[0m \u001b[38;5;28;01mfor\u001b[39;00m i,j \u001b[38;5;129;01min\u001b[39;00m \u001b[38;5;28mzip\u001b[39m(\u001b[38;5;28mrange\u001b[39m(row,\u001b[38;5;241m-\u001b[39m\u001b[38;5;241m1\u001b[39m,\u001b[38;5;241m-\u001b[39m\u001b[38;5;241m1\u001b[39m),\u001b[38;5;28mrange\u001b[39m(col,\u001b[38;5;241m-\u001b[39m\u001b[38;5;241m1\u001b[39m,\u001b[38;5;241m-\u001b[39m\u001b[38;5;241m1\u001b[39m)):\n\u001b[0;32m----> 7\u001b[0m     \u001b[38;5;28;01mif\u001b[39;00m \u001b[43mboard\u001b[49m\u001b[43m[\u001b[49m\u001b[43mi\u001b[49m\u001b[43m]\u001b[49m\u001b[43m[\u001b[49m\u001b[43mj\u001b[49m\u001b[43m]\u001b[49m\u001b[38;5;241m==\u001b[39m\u001b[38;5;241m1\u001b[39m:\n\u001b[1;32m      8\u001b[0m         \u001b[38;5;28;01mreturn\u001b[39;00m \u001b[38;5;28;01mFalse\u001b[39;00m\n\u001b[1;32m      9\u001b[0m \u001b[38;5;28;01mfor\u001b[39;00m i,j \u001b[38;5;129;01min\u001b[39;00m \u001b[38;5;28mzip\u001b[39m(\u001b[38;5;28mrange\u001b[39m(row,n,\u001b[38;5;241m1\u001b[39m),\u001b[38;5;28mrange\u001b[39m(col,\u001b[38;5;241m-\u001b[39m\u001b[38;5;241m1\u001b[39m,\u001b[38;5;241m-\u001b[39m\u001b[38;5;241m1\u001b[39m)):\n",
      "\u001b[0;31mIndexError\u001b[0m: list index out of range"
     ]
    }
   ],
   "source": [
    "#10\n",
    "def issavetoplaceQ(board,row,col,n):\n",
    "    for i in range(col):\n",
    "        if board[row][i]==1:\n",
    "            return False\n",
    "    for i,j in zip(range(row,-1,-1),range(col,-1,-1)):\n",
    "        if board[i][j]==1:\n",
    "            return False\n",
    "    for i,j in zip(range(row,n,1),range(col,-1,-1)):\n",
    "        if board[i][j]==1:\n",
    "            return False\n",
    "    \n",
    "    return True\n",
    "\n",
    "def solveNQ(board,n):\n",
    "    if not solveNQu(board,0,n):\n",
    "        print(\"solution is not exist\")\n",
    "        return\n",
    "    printboard(board,n)\n",
    "\n",
    "\n",
    "def solveNQu(board,col,n):\n",
    "    if col>=n:\n",
    "        return True\n",
    "    for row in range(n):\n",
    "        if issavetoplaceQ(board,row,col,n):\n",
    "            board[row][col]=1\n",
    "            if solveNQu(board,col+1,n):\n",
    "                return True\n",
    "            board[row][col]=0\n",
    "    return False\n",
    "\n",
    "def printboard(board,n):\n",
    "    for i in range(n):\n",
    "        for j in range(n):\n",
    "            if board[i][j]==1:\n",
    "                print(\"Q\",end=' ')\n",
    "            else:\n",
    "                print(\".\",end=' ')\n",
    "        print()\n",
    "board = [[0,0,0,0,0],\n",
    "         [0,0,0,0,0],\n",
    "         [0,0,0,0],\n",
    "         [0,0,0,0],\n",
    "         [0,0,0,0]\n",
    "         ]\n",
    "solveNQ(board,5)"
   ]
  },
  {
   "cell_type": "code",
   "execution_count": null,
   "id": "9f8ad130-7fa3-45de-96a4-c34c73cd0b05",
   "metadata": {},
   "outputs": [],
   "source": []
  }
 ],
 "metadata": {
  "kernelspec": {
   "display_name": "Python 3 (ipykernel)",
   "language": "python",
   "name": "python3"
  },
  "language_info": {
   "codemirror_mode": {
    "name": "ipython",
    "version": 3
   },
   "file_extension": ".py",
   "mimetype": "text/x-python",
   "name": "python",
   "nbconvert_exporter": "python",
   "pygments_lexer": "ipython3",
   "version": "3.10.8"
  }
 },
 "nbformat": 4,
 "nbformat_minor": 5
}
